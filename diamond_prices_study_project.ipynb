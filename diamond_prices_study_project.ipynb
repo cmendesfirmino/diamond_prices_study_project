{
  "nbformat": 4,
  "nbformat_minor": 0,
  "metadata": {
    "colab": {
      "name": "diamond_prices_study_project.ipynb",
      "provenance": [],
      "authorship_tag": "ABX9TyMcaVn8peKF/MOaMYiZZHu5",
      "include_colab_link": true
    },
    "kernelspec": {
      "name": "python3",
      "display_name": "Python 3"
    }
  },
  "cells": [
    {
      "cell_type": "markdown",
      "metadata": {
        "id": "view-in-github",
        "colab_type": "text"
      },
      "source": [
        "<a href=\"https://colab.research.google.com/github/cmendesfirmino/diamond_prices_study_project/blob/master/diamond_prices_study_project.ipynb\" target=\"_parent\"><img src=\"https://colab.research.google.com/assets/colab-badge.svg\" alt=\"Open In Colab\"/></a>"
      ]
    },
    {
      "cell_type": "code",
      "metadata": {
        "id": "ack5Ebao9xd_",
        "colab_type": "code",
        "colab": {}
      },
      "source": [
        "read_csv()"
      ],
      "execution_count": 0,
      "outputs": []
    }
  ]
}