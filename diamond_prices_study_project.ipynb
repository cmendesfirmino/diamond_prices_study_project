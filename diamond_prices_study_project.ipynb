{
  "nbformat": 4,
  "nbformat_minor": 0,
  "metadata": {
    "colab": {
      "name": "diamond_prices_study_project.ipynb",
      "provenance": [],
      "collapsed_sections": [],
      "authorship_tag": "ABX9TyOQgSfmM733Ir1woVXqpwfN",
      "include_colab_link": true
    },
    "kernelspec": {
      "name": "python3",
      "display_name": "Python 3"
    }
  },
  "cells": [
    {
      "cell_type": "markdown",
      "metadata": {
        "id": "view-in-github",
        "colab_type": "text"
      },
      "source": [
        "<a href=\"https://colab.research.google.com/github/cmendesfirmino/diamond_prices_study_project/blob/master/diamond_prices_study_project.ipynb\" target=\"_parent\"><img src=\"https://colab.research.google.com/assets/colab-badge.svg\" alt=\"Open In Colab\"/></a>"
      ]
    },
    {
      "cell_type": "markdown",
      "metadata": {
        "id": "mgl7gF6MRHdw",
        "colab_type": "text"
      },
      "source": [
        "**Predicting Diamond Prices**\n",
        "\n",
        "**Project Overview**\n",
        "\n",
        "A jewelry company wants to put in a bid to purchase a large set of diamonds, but is unsure how much it should bid. In this project, you will use the results from a predictive model to make a recommendation on how much the jewelry company should bid for the diamonds.\n",
        "\n",
        "**Project Details**\n",
        "\n",
        "A diamond distributor has recently decided to exit the market and has put up a set of 3,000 diamonds up for auction. Seeing this as a great opportunity to expand its inventory, a jewelry company has shown interest in making a bid. To decide how much to bid, you will use a large database of diamond prices to build a model to predict the price of a diamond based on its attributes. Then you will use the results of that model to make a recommendation for how much the company should bid."
      ]
    },
    {
      "cell_type": "code",
      "metadata": {
        "id": "TNrnFPI9Oagm",
        "colab_type": "code",
        "colab": {}
      },
      "source": [
        "#import library pandas to handle with dataset\n",
        "import pandas as pd\n"
      ],
      "execution_count": 0,
      "outputs": []
    },
    {
      "cell_type": "code",
      "metadata": {
        "id": "ack5Ebao9xd_",
        "colab_type": "code",
        "colab": {}
      },
      "source": [
        "#read trainning dataset on github repo\n",
        "train_data = pd.read_csv('https://raw.githubusercontent.com/cmendesfirmino/diamond_prices_study_project/master/diamonds.csv')\n"
      ],
      "execution_count": 0,
      "outputs": []
    },
    {
      "cell_type": "code",
      "metadata": {
        "id": "bvFjsYKfPAI7",
        "colab_type": "code",
        "colab": {
          "base_uri": "https://localhost:8080/",
          "height": 204
        },
        "outputId": "f5b962cc-3399-460c-f638-fa030e4f6705"
      },
      "source": [
        "train_data.head()"
      ],
      "execution_count": 68,
      "outputs": [
        {
          "output_type": "execute_result",
          "data": {
            "text/html": [
              "<div>\n",
              "<style scoped>\n",
              "    .dataframe tbody tr th:only-of-type {\n",
              "        vertical-align: middle;\n",
              "    }\n",
              "\n",
              "    .dataframe tbody tr th {\n",
              "        vertical-align: top;\n",
              "    }\n",
              "\n",
              "    .dataframe thead th {\n",
              "        text-align: right;\n",
              "    }\n",
              "</style>\n",
              "<table border=\"1\" class=\"dataframe\">\n",
              "  <thead>\n",
              "    <tr style=\"text-align: right;\">\n",
              "      <th></th>\n",
              "      <th>Unnamed: 0</th>\n",
              "      <th>carat</th>\n",
              "      <th>cut</th>\n",
              "      <th>cut_ord</th>\n",
              "      <th>color</th>\n",
              "      <th>clarity</th>\n",
              "      <th>clarity_ord</th>\n",
              "      <th>price</th>\n",
              "    </tr>\n",
              "  </thead>\n",
              "  <tbody>\n",
              "    <tr>\n",
              "      <th>0</th>\n",
              "      <td>1</td>\n",
              "      <td>0.51</td>\n",
              "      <td>Premium</td>\n",
              "      <td>4</td>\n",
              "      <td>F</td>\n",
              "      <td>VS1</td>\n",
              "      <td>4</td>\n",
              "      <td>1749</td>\n",
              "    </tr>\n",
              "    <tr>\n",
              "      <th>1</th>\n",
              "      <td>2</td>\n",
              "      <td>2.25</td>\n",
              "      <td>Fair</td>\n",
              "      <td>1</td>\n",
              "      <td>G</td>\n",
              "      <td>I1</td>\n",
              "      <td>1</td>\n",
              "      <td>7069</td>\n",
              "    </tr>\n",
              "    <tr>\n",
              "      <th>2</th>\n",
              "      <td>3</td>\n",
              "      <td>0.70</td>\n",
              "      <td>Very Good</td>\n",
              "      <td>3</td>\n",
              "      <td>E</td>\n",
              "      <td>VS2</td>\n",
              "      <td>5</td>\n",
              "      <td>2757</td>\n",
              "    </tr>\n",
              "    <tr>\n",
              "      <th>3</th>\n",
              "      <td>4</td>\n",
              "      <td>0.47</td>\n",
              "      <td>Good</td>\n",
              "      <td>2</td>\n",
              "      <td>F</td>\n",
              "      <td>VS1</td>\n",
              "      <td>4</td>\n",
              "      <td>1243</td>\n",
              "    </tr>\n",
              "    <tr>\n",
              "      <th>4</th>\n",
              "      <td>5</td>\n",
              "      <td>0.30</td>\n",
              "      <td>Ideal</td>\n",
              "      <td>5</td>\n",
              "      <td>G</td>\n",
              "      <td>VVS1</td>\n",
              "      <td>7</td>\n",
              "      <td>789</td>\n",
              "    </tr>\n",
              "  </tbody>\n",
              "</table>\n",
              "</div>"
            ],
            "text/plain": [
              "   Unnamed: 0  carat        cut  cut_ord color clarity  clarity_ord  price\n",
              "0           1   0.51    Premium        4     F     VS1            4   1749\n",
              "1           2   2.25       Fair        1     G      I1            1   7069\n",
              "2           3   0.70  Very Good        3     E     VS2            5   2757\n",
              "3           4   0.47       Good        2     F     VS1            4   1243\n",
              "4           5   0.30      Ideal        5     G    VVS1            7    789"
            ]
          },
          "metadata": {
            "tags": []
          },
          "execution_count": 68
        }
      ]
    },
    {
      "cell_type": "markdown",
      "metadata": {
        "id": "fVXwzbyBQZQ_",
        "colab_type": "text"
      },
      "source": [
        "Let's understanding above data. There are 8 fields:\n",
        "\n",
        "**Unnamed**: 0  is the number row\n",
        "\n",
        "**caract**: represents the weight of the diamond, and is a numerical variable.\n",
        "\n",
        "**cut**: represents the quality of the cut of the diamond, and falls into 5 categories: fair, good, very good, ideal, and premium. \n",
        "\n",
        "**cut ord**: cut categories were representend by an ordinal variable, 1-5\n",
        "\n",
        "**color**: represents the color of the diamond, and is rated D through J, with D being the most colorless (and valuable) and J being the most yellow.\n",
        "\n",
        "**clarity**: represents the internal purity of the diamond, and falls into 8 categories: I1, SI2, SI1, VS2, VS1, VVS2, VVS1, and IF (in order from least to most pure). \n",
        "\n",
        "**clarity_ord**: clarity categories were represented by an ordinal variable, 1-8.\n",
        "\n",
        "**price**: represents the price of diamond\n",
        "\n"
      ]
    },
    {
      "cell_type": "code",
      "metadata": {
        "id": "VCbx1K1WPoyS",
        "colab_type": "code",
        "colab": {
          "base_uri": "https://localhost:8080/",
          "height": 272
        },
        "outputId": "c94b056e-d2ea-4d1d-d432-5e95520e6717"
      },
      "source": [
        "train_data.info()"
      ],
      "execution_count": 69,
      "outputs": [
        {
          "output_type": "stream",
          "text": [
            "<class 'pandas.core.frame.DataFrame'>\n",
            "RangeIndex: 50000 entries, 0 to 49999\n",
            "Data columns (total 8 columns):\n",
            " #   Column       Non-Null Count  Dtype  \n",
            "---  ------       --------------  -----  \n",
            " 0   Unnamed: 0   50000 non-null  int64  \n",
            " 1   carat        50000 non-null  float64\n",
            " 2   cut          50000 non-null  object \n",
            " 3   cut_ord      50000 non-null  int64  \n",
            " 4   color        50000 non-null  object \n",
            " 5   clarity      50000 non-null  object \n",
            " 6   clarity_ord  50000 non-null  int64  \n",
            " 7   price        50000 non-null  int64  \n",
            "dtypes: float64(1), int64(4), object(3)\n",
            "memory usage: 3.1+ MB\n"
          ],
          "name": "stdout"
        }
      ]
    },
    {
      "cell_type": "code",
      "metadata": {
        "id": "zXSP1T2sPLFY",
        "colab_type": "code",
        "colab": {
          "base_uri": "https://localhost:8080/",
          "height": 297
        },
        "outputId": "54bf1aee-9db2-4601-88d7-87fc2a87bdee"
      },
      "source": [
        "train_data.describe()"
      ],
      "execution_count": 70,
      "outputs": [
        {
          "output_type": "execute_result",
          "data": {
            "text/html": [
              "<div>\n",
              "<style scoped>\n",
              "    .dataframe tbody tr th:only-of-type {\n",
              "        vertical-align: middle;\n",
              "    }\n",
              "\n",
              "    .dataframe tbody tr th {\n",
              "        vertical-align: top;\n",
              "    }\n",
              "\n",
              "    .dataframe thead th {\n",
              "        text-align: right;\n",
              "    }\n",
              "</style>\n",
              "<table border=\"1\" class=\"dataframe\">\n",
              "  <thead>\n",
              "    <tr style=\"text-align: right;\">\n",
              "      <th></th>\n",
              "      <th>Unnamed: 0</th>\n",
              "      <th>carat</th>\n",
              "      <th>cut_ord</th>\n",
              "      <th>clarity_ord</th>\n",
              "      <th>price</th>\n",
              "    </tr>\n",
              "  </thead>\n",
              "  <tbody>\n",
              "    <tr>\n",
              "      <th>count</th>\n",
              "      <td>50000.000000</td>\n",
              "      <td>50000.000000</td>\n",
              "      <td>50000.000000</td>\n",
              "      <td>50000.000000</td>\n",
              "      <td>50000.000000</td>\n",
              "    </tr>\n",
              "    <tr>\n",
              "      <th>mean</th>\n",
              "      <td>25000.500000</td>\n",
              "      <td>0.798597</td>\n",
              "      <td>3.903980</td>\n",
              "      <td>4.126700</td>\n",
              "      <td>3939.103500</td>\n",
              "    </tr>\n",
              "    <tr>\n",
              "      <th>std</th>\n",
              "      <td>14433.901067</td>\n",
              "      <td>0.474651</td>\n",
              "      <td>1.117043</td>\n",
              "      <td>1.665564</td>\n",
              "      <td>3995.879832</td>\n",
              "    </tr>\n",
              "    <tr>\n",
              "      <th>min</th>\n",
              "      <td>1.000000</td>\n",
              "      <td>0.200000</td>\n",
              "      <td>1.000000</td>\n",
              "      <td>1.000000</td>\n",
              "      <td>326.000000</td>\n",
              "    </tr>\n",
              "    <tr>\n",
              "      <th>25%</th>\n",
              "      <td>12500.750000</td>\n",
              "      <td>0.400000</td>\n",
              "      <td>3.000000</td>\n",
              "      <td>3.000000</td>\n",
              "      <td>948.000000</td>\n",
              "    </tr>\n",
              "    <tr>\n",
              "      <th>50%</th>\n",
              "      <td>25000.500000</td>\n",
              "      <td>0.700000</td>\n",
              "      <td>4.000000</td>\n",
              "      <td>4.000000</td>\n",
              "      <td>2402.500000</td>\n",
              "    </tr>\n",
              "    <tr>\n",
              "      <th>75%</th>\n",
              "      <td>37500.250000</td>\n",
              "      <td>1.040000</td>\n",
              "      <td>5.000000</td>\n",
              "      <td>5.000000</td>\n",
              "      <td>5331.000000</td>\n",
              "    </tr>\n",
              "    <tr>\n",
              "      <th>max</th>\n",
              "      <td>50000.000000</td>\n",
              "      <td>5.010000</td>\n",
              "      <td>5.000000</td>\n",
              "      <td>8.000000</td>\n",
              "      <td>18823.000000</td>\n",
              "    </tr>\n",
              "  </tbody>\n",
              "</table>\n",
              "</div>"
            ],
            "text/plain": [
              "         Unnamed: 0         carat       cut_ord   clarity_ord         price\n",
              "count  50000.000000  50000.000000  50000.000000  50000.000000  50000.000000\n",
              "mean   25000.500000      0.798597      3.903980      4.126700   3939.103500\n",
              "std    14433.901067      0.474651      1.117043      1.665564   3995.879832\n",
              "min        1.000000      0.200000      1.000000      1.000000    326.000000\n",
              "25%    12500.750000      0.400000      3.000000      3.000000    948.000000\n",
              "50%    25000.500000      0.700000      4.000000      4.000000   2402.500000\n",
              "75%    37500.250000      1.040000      5.000000      5.000000   5331.000000\n",
              "max    50000.000000      5.010000      5.000000      8.000000  18823.000000"
            ]
          },
          "metadata": {
            "tags": []
          },
          "execution_count": 70
        }
      ]
    },
    {
      "cell_type": "code",
      "metadata": {
        "id": "uzaKO6usUCMb",
        "colab_type": "code",
        "colab": {}
      },
      "source": [
        "train_data = train_data[['carat','cut', 'color', 'clarity', 'price']]"
      ],
      "execution_count": 0,
      "outputs": []
    },
    {
      "cell_type": "markdown",
      "metadata": {
        "id": "5s0M6MRtGH3D",
        "colab_type": "text"
      },
      "source": [
        "Exclude name of rows, cut_ord and clarity_ord. The first is because useless featura. The second and third is due to the correlation problem as we have this info two times."
      ]
    },
    {
      "cell_type": "code",
      "metadata": {
        "id": "pTd4VTw5GDHG",
        "colab_type": "code",
        "colab": {}
      },
      "source": [
        "from sklearn.linear_model import LinearRegression"
      ],
      "execution_count": 0,
      "outputs": []
    },
    {
      "cell_type": "code",
      "metadata": {
        "id": "UiVylrwAHRMW",
        "colab_type": "code",
        "colab": {}
      },
      "source": [
        "model = LinearRegression()"
      ],
      "execution_count": 0,
      "outputs": []
    },
    {
      "cell_type": "code",
      "metadata": {
        "id": "4NBXAFv2KY3z",
        "colab_type": "code",
        "colab": {
          "base_uri": "https://localhost:8080/",
          "height": 396
        },
        "outputId": "0bf36f1a-706b-41f9-d3a5-47f30287e61c"
      },
      "source": [
        "train_data = train_data.reindex(['price', 'carat', 'cut', 'color', 'clarity'], axis=1)\n",
        "train_data.head(10)\n",
        "train_data_dummy = pd.get_dummies(train_data, columns=['cut', 'color', 'clarity'], drop_first=True)\n",
        "\n"
      ],
      "execution_count": 74,
      "outputs": [
        {
          "output_type": "execute_result",
          "data": {
            "text/html": [
              "<div>\n",
              "<style scoped>\n",
              "    .dataframe tbody tr th:only-of-type {\n",
              "        vertical-align: middle;\n",
              "    }\n",
              "\n",
              "    .dataframe tbody tr th {\n",
              "        vertical-align: top;\n",
              "    }\n",
              "\n",
              "    .dataframe thead th {\n",
              "        text-align: right;\n",
              "    }\n",
              "</style>\n",
              "<table border=\"1\" class=\"dataframe\">\n",
              "  <thead>\n",
              "    <tr style=\"text-align: right;\">\n",
              "      <th></th>\n",
              "      <th>price</th>\n",
              "      <th>carat</th>\n",
              "      <th>cut_Good</th>\n",
              "      <th>cut_Ideal</th>\n",
              "      <th>cut_Premium</th>\n",
              "      <th>cut_Very Good</th>\n",
              "      <th>color_E</th>\n",
              "      <th>color_F</th>\n",
              "      <th>color_G</th>\n",
              "      <th>color_H</th>\n",
              "      <th>color_I</th>\n",
              "      <th>color_J</th>\n",
              "      <th>clarity_IF</th>\n",
              "      <th>clarity_SI1</th>\n",
              "      <th>clarity_SI2</th>\n",
              "      <th>clarity_VS1</th>\n",
              "      <th>clarity_VS2</th>\n",
              "      <th>clarity_VVS1</th>\n",
              "      <th>clarity_VVS2</th>\n",
              "    </tr>\n",
              "  </thead>\n",
              "  <tbody>\n",
              "    <tr>\n",
              "      <th>0</th>\n",
              "      <td>1749</td>\n",
              "      <td>0.51</td>\n",
              "      <td>0</td>\n",
              "      <td>0</td>\n",
              "      <td>1</td>\n",
              "      <td>0</td>\n",
              "      <td>0</td>\n",
              "      <td>1</td>\n",
              "      <td>0</td>\n",
              "      <td>0</td>\n",
              "      <td>0</td>\n",
              "      <td>0</td>\n",
              "      <td>0</td>\n",
              "      <td>0</td>\n",
              "      <td>0</td>\n",
              "      <td>1</td>\n",
              "      <td>0</td>\n",
              "      <td>0</td>\n",
              "      <td>0</td>\n",
              "    </tr>\n",
              "    <tr>\n",
              "      <th>1</th>\n",
              "      <td>7069</td>\n",
              "      <td>2.25</td>\n",
              "      <td>0</td>\n",
              "      <td>0</td>\n",
              "      <td>0</td>\n",
              "      <td>0</td>\n",
              "      <td>0</td>\n",
              "      <td>0</td>\n",
              "      <td>1</td>\n",
              "      <td>0</td>\n",
              "      <td>0</td>\n",
              "      <td>0</td>\n",
              "      <td>0</td>\n",
              "      <td>0</td>\n",
              "      <td>0</td>\n",
              "      <td>0</td>\n",
              "      <td>0</td>\n",
              "      <td>0</td>\n",
              "      <td>0</td>\n",
              "    </tr>\n",
              "    <tr>\n",
              "      <th>2</th>\n",
              "      <td>2757</td>\n",
              "      <td>0.70</td>\n",
              "      <td>0</td>\n",
              "      <td>0</td>\n",
              "      <td>0</td>\n",
              "      <td>1</td>\n",
              "      <td>1</td>\n",
              "      <td>0</td>\n",
              "      <td>0</td>\n",
              "      <td>0</td>\n",
              "      <td>0</td>\n",
              "      <td>0</td>\n",
              "      <td>0</td>\n",
              "      <td>0</td>\n",
              "      <td>0</td>\n",
              "      <td>0</td>\n",
              "      <td>1</td>\n",
              "      <td>0</td>\n",
              "      <td>0</td>\n",
              "    </tr>\n",
              "    <tr>\n",
              "      <th>3</th>\n",
              "      <td>1243</td>\n",
              "      <td>0.47</td>\n",
              "      <td>1</td>\n",
              "      <td>0</td>\n",
              "      <td>0</td>\n",
              "      <td>0</td>\n",
              "      <td>0</td>\n",
              "      <td>1</td>\n",
              "      <td>0</td>\n",
              "      <td>0</td>\n",
              "      <td>0</td>\n",
              "      <td>0</td>\n",
              "      <td>0</td>\n",
              "      <td>0</td>\n",
              "      <td>0</td>\n",
              "      <td>1</td>\n",
              "      <td>0</td>\n",
              "      <td>0</td>\n",
              "      <td>0</td>\n",
              "    </tr>\n",
              "    <tr>\n",
              "      <th>4</th>\n",
              "      <td>789</td>\n",
              "      <td>0.30</td>\n",
              "      <td>0</td>\n",
              "      <td>1</td>\n",
              "      <td>0</td>\n",
              "      <td>0</td>\n",
              "      <td>0</td>\n",
              "      <td>0</td>\n",
              "      <td>1</td>\n",
              "      <td>0</td>\n",
              "      <td>0</td>\n",
              "      <td>0</td>\n",
              "      <td>0</td>\n",
              "      <td>0</td>\n",
              "      <td>0</td>\n",
              "      <td>0</td>\n",
              "      <td>0</td>\n",
              "      <td>1</td>\n",
              "      <td>0</td>\n",
              "    </tr>\n",
              "    <tr>\n",
              "      <th>5</th>\n",
              "      <td>728</td>\n",
              "      <td>0.33</td>\n",
              "      <td>0</td>\n",
              "      <td>1</td>\n",
              "      <td>0</td>\n",
              "      <td>0</td>\n",
              "      <td>0</td>\n",
              "      <td>0</td>\n",
              "      <td>0</td>\n",
              "      <td>0</td>\n",
              "      <td>0</td>\n",
              "      <td>0</td>\n",
              "      <td>0</td>\n",
              "      <td>1</td>\n",
              "      <td>0</td>\n",
              "      <td>0</td>\n",
              "      <td>0</td>\n",
              "      <td>0</td>\n",
              "      <td>0</td>\n",
              "    </tr>\n",
              "    <tr>\n",
              "      <th>6</th>\n",
              "      <td>18398</td>\n",
              "      <td>2.01</td>\n",
              "      <td>0</td>\n",
              "      <td>0</td>\n",
              "      <td>0</td>\n",
              "      <td>1</td>\n",
              "      <td>0</td>\n",
              "      <td>0</td>\n",
              "      <td>1</td>\n",
              "      <td>0</td>\n",
              "      <td>0</td>\n",
              "      <td>0</td>\n",
              "      <td>0</td>\n",
              "      <td>1</td>\n",
              "      <td>0</td>\n",
              "      <td>0</td>\n",
              "      <td>0</td>\n",
              "      <td>0</td>\n",
              "      <td>0</td>\n",
              "    </tr>\n",
              "    <tr>\n",
              "      <th>7</th>\n",
              "      <td>2203</td>\n",
              "      <td>0.51</td>\n",
              "      <td>0</td>\n",
              "      <td>1</td>\n",
              "      <td>0</td>\n",
              "      <td>0</td>\n",
              "      <td>0</td>\n",
              "      <td>1</td>\n",
              "      <td>0</td>\n",
              "      <td>0</td>\n",
              "      <td>0</td>\n",
              "      <td>0</td>\n",
              "      <td>0</td>\n",
              "      <td>0</td>\n",
              "      <td>0</td>\n",
              "      <td>0</td>\n",
              "      <td>0</td>\n",
              "      <td>0</td>\n",
              "      <td>1</td>\n",
              "    </tr>\n",
              "    <tr>\n",
              "      <th>8</th>\n",
              "      <td>15100</td>\n",
              "      <td>1.70</td>\n",
              "      <td>0</td>\n",
              "      <td>0</td>\n",
              "      <td>1</td>\n",
              "      <td>0</td>\n",
              "      <td>0</td>\n",
              "      <td>0</td>\n",
              "      <td>0</td>\n",
              "      <td>0</td>\n",
              "      <td>0</td>\n",
              "      <td>0</td>\n",
              "      <td>0</td>\n",
              "      <td>1</td>\n",
              "      <td>0</td>\n",
              "      <td>0</td>\n",
              "      <td>0</td>\n",
              "      <td>0</td>\n",
              "      <td>0</td>\n",
              "    </tr>\n",
              "    <tr>\n",
              "      <th>9</th>\n",
              "      <td>1857</td>\n",
              "      <td>0.53</td>\n",
              "      <td>0</td>\n",
              "      <td>0</td>\n",
              "      <td>1</td>\n",
              "      <td>0</td>\n",
              "      <td>0</td>\n",
              "      <td>0</td>\n",
              "      <td>0</td>\n",
              "      <td>0</td>\n",
              "      <td>0</td>\n",
              "      <td>0</td>\n",
              "      <td>0</td>\n",
              "      <td>0</td>\n",
              "      <td>0</td>\n",
              "      <td>0</td>\n",
              "      <td>1</td>\n",
              "      <td>0</td>\n",
              "      <td>0</td>\n",
              "    </tr>\n",
              "  </tbody>\n",
              "</table>\n",
              "</div>"
            ],
            "text/plain": [
              "   price  carat  cut_Good  ...  clarity_VS2  clarity_VVS1  clarity_VVS2\n",
              "0   1749   0.51         0  ...            0             0             0\n",
              "1   7069   2.25         0  ...            0             0             0\n",
              "2   2757   0.70         0  ...            1             0             0\n",
              "3   1243   0.47         1  ...            0             0             0\n",
              "4    789   0.30         0  ...            0             1             0\n",
              "5    728   0.33         0  ...            0             0             0\n",
              "6  18398   2.01         0  ...            0             0             0\n",
              "7   2203   0.51         0  ...            0             0             1\n",
              "8  15100   1.70         0  ...            0             0             0\n",
              "9   1857   0.53         0  ...            1             0             0\n",
              "\n",
              "[10 rows x 19 columns]"
            ]
          },
          "metadata": {
            "tags": []
          },
          "execution_count": 74
        }
      ]
    },
    {
      "cell_type": "code",
      "metadata": {
        "id": "97bZE7Q5HlPw",
        "colab_type": "code",
        "colab": {}
      },
      "source": [
        "y_train = train_data_dummy['price']\n",
        "x_train = train_data_dummy.iloc[:,1:]\n"
      ],
      "execution_count": 0,
      "outputs": []
    },
    {
      "cell_type": "code",
      "metadata": {
        "id": "A6eXU3IrH3_i",
        "colab_type": "code",
        "colab": {
          "base_uri": "https://localhost:8080/",
          "height": 34
        },
        "outputId": "985b45bb-e48f-4e5b-f976-8d07858f432a"
      },
      "source": [
        "model.fit(x_train,y_train)"
      ],
      "execution_count": 76,
      "outputs": [
        {
          "output_type": "execute_result",
          "data": {
            "text/plain": [
              "LinearRegression(copy_X=True, fit_intercept=True, n_jobs=None, normalize=False)"
            ]
          },
          "metadata": {
            "tags": []
          },
          "execution_count": 76
        }
      ]
    },
    {
      "cell_type": "code",
      "metadata": {
        "id": "IsLBJqiSMNkc",
        "colab_type": "code",
        "colab": {
          "base_uri": "https://localhost:8080/",
          "height": 136
        },
        "outputId": "65a3b5b7-4cc6-4d4f-cfaa-f11ab0967302"
      },
      "source": [
        "r_sq = model.score(x_train, y_train)\n",
        "print('coefficient of determination:', r_sq)\n",
        "print('intercept:', model.intercept_)\n",
        "print('slope:', model.coef_)"
      ],
      "execution_count": 77,
      "outputs": [
        {
          "output_type": "stream",
          "text": [
            "coefficient of determination: 0.9162528260544507\n",
            "intercept: -7382.290586052183\n",
            "slope: [ 8887.41193964   682.16700303  1017.09019855   889.25666125\n",
            "   867.07528846  -205.242761    -298.6711949   -498.56000112\n",
            "  -966.19947487 -1441.42623378 -2321.3535325   5421.78978757\n",
            "  3570.56218042  2616.87033749  4534.68549294  4217.13996616\n",
            "  5057.78671531  4953.74109955]\n"
          ],
          "name": "stdout"
        }
      ]
    },
    {
      "cell_type": "code",
      "metadata": {
        "id": "vHhsMYdzMP2t",
        "colab_type": "code",
        "colab": {
          "base_uri": "https://localhost:8080/",
          "height": 340
        },
        "outputId": "7d9afa88-8dfa-4c90-fe1f-188a92a5d5c8"
      },
      "source": [
        "import statsmodels.api as sm\n",
        "est = sm.OLS(y_train, x_train)\n",
        "est2 = est.fit()\n",
        "#print(est2.summary())\n",
        "p_values = est2.summary2().tables[1]['P>|t|']\n",
        "print(p_values)"
      ],
      "execution_count": 81,
      "outputs": [
        {
          "output_type": "stream",
          "text": [
            "carat             0.000000e+00\n",
            "cut_Good         1.676395e-207\n",
            "cut_Ideal        1.135530e-128\n",
            "cut_Premium      4.705136e-152\n",
            "cut_Very Good    3.050032e-155\n",
            "color_E          8.020613e-266\n",
            "color_F           0.000000e+00\n",
            "color_G           0.000000e+00\n",
            "color_H           0.000000e+00\n",
            "color_I           0.000000e+00\n",
            "color_J           0.000000e+00\n",
            "clarity_IF        4.078149e-34\n",
            "clarity_SI1      1.638330e-249\n",
            "clarity_SI2       0.000000e+00\n",
            "clarity_VS1       9.598166e-12\n",
            "clarity_VS2       6.473187e-58\n",
            "clarity_VVS1      5.927913e-07\n",
            "clarity_VVS2      4.834734e-03\n",
            "Name: P>|t|, dtype: float64\n"
          ],
          "name": "stdout"
        }
      ]
    },
    {
      "cell_type": "code",
      "metadata": {
        "id": "rrarHZbvfMrZ",
        "colab_type": "code",
        "colab": {}
      },
      "source": [
        "test_data = pd.read_csv('https://raw.githubusercontent.com/cmendesfirmino/diamond_prices_study_project/master/new-diamonds.csv')"
      ],
      "execution_count": 0,
      "outputs": []
    },
    {
      "cell_type": "code",
      "metadata": {
        "id": "0lTP6oBzhU-Z",
        "colab_type": "code",
        "colab": {
          "base_uri": "https://localhost:8080/",
          "height": 204
        },
        "outputId": "7306b4f4-2a37-47c8-9e04-b87b54d72407"
      },
      "source": [
        "test_data.head()"
      ],
      "execution_count": 85,
      "outputs": [
        {
          "output_type": "execute_result",
          "data": {
            "text/html": [
              "<div>\n",
              "<style scoped>\n",
              "    .dataframe tbody tr th:only-of-type {\n",
              "        vertical-align: middle;\n",
              "    }\n",
              "\n",
              "    .dataframe tbody tr th {\n",
              "        vertical-align: top;\n",
              "    }\n",
              "\n",
              "    .dataframe thead th {\n",
              "        text-align: right;\n",
              "    }\n",
              "</style>\n",
              "<table border=\"1\" class=\"dataframe\">\n",
              "  <thead>\n",
              "    <tr style=\"text-align: right;\">\n",
              "      <th></th>\n",
              "      <th>Unnamed: 0</th>\n",
              "      <th>carat</th>\n",
              "      <th>cut</th>\n",
              "      <th>cut_ord</th>\n",
              "      <th>color</th>\n",
              "      <th>clarity</th>\n",
              "      <th>clarity_ord</th>\n",
              "    </tr>\n",
              "  </thead>\n",
              "  <tbody>\n",
              "    <tr>\n",
              "      <th>0</th>\n",
              "      <td>1</td>\n",
              "      <td>1.22</td>\n",
              "      <td>Premium</td>\n",
              "      <td>4</td>\n",
              "      <td>G</td>\n",
              "      <td>SI1</td>\n",
              "      <td>3</td>\n",
              "    </tr>\n",
              "    <tr>\n",
              "      <th>1</th>\n",
              "      <td>2</td>\n",
              "      <td>1.01</td>\n",
              "      <td>Good</td>\n",
              "      <td>2</td>\n",
              "      <td>G</td>\n",
              "      <td>VS2</td>\n",
              "      <td>5</td>\n",
              "    </tr>\n",
              "    <tr>\n",
              "      <th>2</th>\n",
              "      <td>3</td>\n",
              "      <td>0.71</td>\n",
              "      <td>Very Good</td>\n",
              "      <td>3</td>\n",
              "      <td>I</td>\n",
              "      <td>VS2</td>\n",
              "      <td>5</td>\n",
              "    </tr>\n",
              "    <tr>\n",
              "      <th>3</th>\n",
              "      <td>4</td>\n",
              "      <td>1.01</td>\n",
              "      <td>Ideal</td>\n",
              "      <td>5</td>\n",
              "      <td>D</td>\n",
              "      <td>SI2</td>\n",
              "      <td>2</td>\n",
              "    </tr>\n",
              "    <tr>\n",
              "      <th>4</th>\n",
              "      <td>5</td>\n",
              "      <td>0.27</td>\n",
              "      <td>Ideal</td>\n",
              "      <td>5</td>\n",
              "      <td>H</td>\n",
              "      <td>VVS2</td>\n",
              "      <td>6</td>\n",
              "    </tr>\n",
              "  </tbody>\n",
              "</table>\n",
              "</div>"
            ],
            "text/plain": [
              "   Unnamed: 0  carat        cut  cut_ord color clarity  clarity_ord\n",
              "0           1   1.22    Premium        4     G     SI1            3\n",
              "1           2   1.01       Good        2     G     VS2            5\n",
              "2           3   0.71  Very Good        3     I     VS2            5\n",
              "3           4   1.01      Ideal        5     D     SI2            2\n",
              "4           5   0.27      Ideal        5     H    VVS2            6"
            ]
          },
          "metadata": {
            "tags": []
          },
          "execution_count": 85
        }
      ]
    },
    {
      "cell_type": "code",
      "metadata": {
        "id": "PTQev8H5hcUy",
        "colab_type": "code",
        "colab": {}
      },
      "source": [
        "test_data = test_data[['carat','cut', 'color', 'clarity']]\n"
      ],
      "execution_count": 0,
      "outputs": []
    },
    {
      "cell_type": "code",
      "metadata": {
        "id": "OdeTAH-yhfZL",
        "colab_type": "code",
        "colab": {}
      },
      "source": [
        "test_data_dummy = pd.get_dummies(test_data, columns=['cut', 'color', 'clarity'], drop_first=True)"
      ],
      "execution_count": 0,
      "outputs": []
    },
    {
      "cell_type": "code",
      "metadata": {
        "id": "nBIiUMMqhscL",
        "colab_type": "code",
        "colab": {}
      },
      "source": [
        "test_data_dummy['predicted_price'] = model.predict(test_data_dummy)"
      ],
      "execution_count": 0,
      "outputs": []
    },
    {
      "cell_type": "code",
      "metadata": {
        "id": "0iFs_GKtiHaa",
        "colab_type": "code",
        "colab": {
          "base_uri": "https://localhost:8080/",
          "height": 148
        },
        "outputId": "fd37b08f-6e5e-4546-a11f-4df0a3543a7c"
      },
      "source": [
        "test_data_dummy.head(2)"
      ],
      "execution_count": 99,
      "outputs": [
        {
          "output_type": "execute_result",
          "data": {
            "text/html": [
              "<div>\n",
              "<style scoped>\n",
              "    .dataframe tbody tr th:only-of-type {\n",
              "        vertical-align: middle;\n",
              "    }\n",
              "\n",
              "    .dataframe tbody tr th {\n",
              "        vertical-align: top;\n",
              "    }\n",
              "\n",
              "    .dataframe thead th {\n",
              "        text-align: right;\n",
              "    }\n",
              "</style>\n",
              "<table border=\"1\" class=\"dataframe\">\n",
              "  <thead>\n",
              "    <tr style=\"text-align: right;\">\n",
              "      <th></th>\n",
              "      <th>carat</th>\n",
              "      <th>cut_Good</th>\n",
              "      <th>cut_Ideal</th>\n",
              "      <th>cut_Premium</th>\n",
              "      <th>cut_Very Good</th>\n",
              "      <th>color_E</th>\n",
              "      <th>color_F</th>\n",
              "      <th>color_G</th>\n",
              "      <th>color_H</th>\n",
              "      <th>color_I</th>\n",
              "      <th>color_J</th>\n",
              "      <th>clarity_IF</th>\n",
              "      <th>clarity_SI1</th>\n",
              "      <th>clarity_SI2</th>\n",
              "      <th>clarity_VS1</th>\n",
              "      <th>clarity_VS2</th>\n",
              "      <th>clarity_VVS1</th>\n",
              "      <th>clarity_VVS2</th>\n",
              "      <th>predicted_price</th>\n",
              "    </tr>\n",
              "  </thead>\n",
              "  <tbody>\n",
              "    <tr>\n",
              "      <th>0</th>\n",
              "      <td>1.22</td>\n",
              "      <td>0</td>\n",
              "      <td>0</td>\n",
              "      <td>1</td>\n",
              "      <td>0</td>\n",
              "      <td>0</td>\n",
              "      <td>0</td>\n",
              "      <td>1</td>\n",
              "      <td>0</td>\n",
              "      <td>0</td>\n",
              "      <td>0</td>\n",
              "      <td>0</td>\n",
              "      <td>1</td>\n",
              "      <td>0</td>\n",
              "      <td>0</td>\n",
              "      <td>0</td>\n",
              "      <td>0</td>\n",
              "      <td>0</td>\n",
              "      <td>7421.610821</td>\n",
              "    </tr>\n",
              "    <tr>\n",
              "      <th>1</th>\n",
              "      <td>1.01</td>\n",
              "      <td>1</td>\n",
              "      <td>0</td>\n",
              "      <td>0</td>\n",
              "      <td>0</td>\n",
              "      <td>0</td>\n",
              "      <td>0</td>\n",
              "      <td>1</td>\n",
              "      <td>0</td>\n",
              "      <td>0</td>\n",
              "      <td>0</td>\n",
              "      <td>0</td>\n",
              "      <td>0</td>\n",
              "      <td>0</td>\n",
              "      <td>0</td>\n",
              "      <td>1</td>\n",
              "      <td>0</td>\n",
              "      <td>0</td>\n",
              "      <td>5994.742441</td>\n",
              "    </tr>\n",
              "  </tbody>\n",
              "</table>\n",
              "</div>"
            ],
            "text/plain": [
              "   carat  cut_Good  cut_Ideal  ...  clarity_VVS1  clarity_VVS2  predicted_price\n",
              "0   1.22         0          0  ...             0             0      7421.610821\n",
              "1   1.01         1          0  ...             0             0      5994.742441\n",
              "\n",
              "[2 rows x 19 columns]"
            ]
          },
          "metadata": {
            "tags": []
          },
          "execution_count": 99
        }
      ]
    },
    {
      "cell_type": "code",
      "metadata": {
        "id": "J5uT5rmbinyc",
        "colab_type": "code",
        "colab": {
          "base_uri": "https://localhost:8080/",
          "height": 34
        },
        "outputId": "a4dca4c5-99bc-495d-bf3b-20982dd27a4d"
      },
      "source": [
        "test_data_dummy['predicted_price'].sum()*0.7"
      ],
      "execution_count": 103,
      "outputs": [
        {
          "output_type": "execute_result",
          "data": {
            "text/plain": [
              "8230695.689744963"
            ]
          },
          "metadata": {
            "tags": []
          },
          "execution_count": 103
        }
      ]
    }
  ]
}